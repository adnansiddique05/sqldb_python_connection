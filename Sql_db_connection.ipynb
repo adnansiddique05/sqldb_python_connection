{
 "cells": [
  {
   "cell_type": "markdown",
   "id": "e2b0e2cb",
   "metadata": {},
   "source": [
    "## Script to connects to the database"
   ]
  },
  {
   "cell_type": "code",
   "execution_count": 87,
   "id": "8263e532",
   "metadata": {},
   "outputs": [],
   "source": [
    "import pandas as pd\n",
    "import pyodbc"
   ]
  },
  {
   "cell_type": "code",
   "execution_count": 88,
   "id": "a76c2bfc",
   "metadata": {},
   "outputs": [
    {
     "name": "stderr",
     "output_type": "stream",
     "text": [
      "C:\\Users\\umair\\anaconda3\\lib\\site-packages\\pandas\\io\\sql.py:761: UserWarning: pandas only support SQLAlchemy connectable(engine/connection) ordatabase string URI or sqlite3 DBAPI2 connectionother DBAPI2 objects are not tested, please consider using SQLAlchemy\n",
      "  warnings.warn(\n"
     ]
    },
    {
     "data": {
      "text/html": [
       "<div>\n",
       "<style scoped>\n",
       "    .dataframe tbody tr th:only-of-type {\n",
       "        vertical-align: middle;\n",
       "    }\n",
       "\n",
       "    .dataframe tbody tr th {\n",
       "        vertical-align: top;\n",
       "    }\n",
       "\n",
       "    .dataframe thead th {\n",
       "        text-align: right;\n",
       "    }\n",
       "</style>\n",
       "<table border=\"1\" class=\"dataframe\">\n",
       "  <thead>\n",
       "    <tr style=\"text-align: right;\">\n",
       "      <th></th>\n",
       "      <th>productid</th>\n",
       "      <th>brand</th>\n",
       "      <th>RAM_GB</th>\n",
       "      <th>HDD_GB</th>\n",
       "      <th>GHz</th>\n",
       "      <th>price</th>\n",
       "    </tr>\n",
       "  </thead>\n",
       "  <tbody>\n",
       "    <tr>\n",
       "      <th>0</th>\n",
       "      <td>394</td>\n",
       "      <td>Samsung</td>\n",
       "      <td>16</td>\n",
       "      <td>1000</td>\n",
       "      <td>3.2</td>\n",
       "      <td>90900</td>\n",
       "    </tr>\n",
       "    <tr>\n",
       "      <th>1</th>\n",
       "      <td>828</td>\n",
       "      <td>Lenovo</td>\n",
       "      <td>8</td>\n",
       "      <td>2000</td>\n",
       "      <td>2.5</td>\n",
       "      <td>51900</td>\n",
       "    </tr>\n",
       "    <tr>\n",
       "      <th>2</th>\n",
       "      <td>995</td>\n",
       "      <td>Acer</td>\n",
       "      <td>4</td>\n",
       "      <td>1000</td>\n",
       "      <td>2.3</td>\n",
       "      <td>44900</td>\n",
       "    </tr>\n",
       "    <tr>\n",
       "      <th>3</th>\n",
       "      <td>1009</td>\n",
       "      <td>HP</td>\n",
       "      <td>4</td>\n",
       "      <td>500</td>\n",
       "      <td>2.3</td>\n",
       "      <td>42900</td>\n",
       "    </tr>\n",
       "    <tr>\n",
       "      <th>4</th>\n",
       "      <td>1093</td>\n",
       "      <td>Acer</td>\n",
       "      <td>8</td>\n",
       "      <td>2000</td>\n",
       "      <td>2.3</td>\n",
       "      <td>58900</td>\n",
       "    </tr>\n",
       "    <tr>\n",
       "      <th>...</th>\n",
       "      <td>...</td>\n",
       "      <td>...</td>\n",
       "      <td>...</td>\n",
       "      <td>...</td>\n",
       "      <td>...</td>\n",
       "      <td>...</td>\n",
       "    </tr>\n",
       "    <tr>\n",
       "      <th>6484</th>\n",
       "      <td>998890</td>\n",
       "      <td>Apple</td>\n",
       "      <td>4</td>\n",
       "      <td>2000</td>\n",
       "      <td>1.8</td>\n",
       "      <td>106900</td>\n",
       "    </tr>\n",
       "    <tr>\n",
       "      <th>6485</th>\n",
       "      <td>998992</td>\n",
       "      <td>asus</td>\n",
       "      <td>16</td>\n",
       "      <td>500</td>\n",
       "      <td>3.0</td>\n",
       "      <td>67900</td>\n",
       "    </tr>\n",
       "    <tr>\n",
       "      <th>6486</th>\n",
       "      <td>999168</td>\n",
       "      <td>Acer</td>\n",
       "      <td>8</td>\n",
       "      <td>2000</td>\n",
       "      <td>2.3</td>\n",
       "      <td>49900</td>\n",
       "    </tr>\n",
       "    <tr>\n",
       "      <th>6487</th>\n",
       "      <td>999618</td>\n",
       "      <td>Apple</td>\n",
       "      <td>4</td>\n",
       "      <td>1000</td>\n",
       "      <td>1.8</td>\n",
       "      <td>97900</td>\n",
       "    </tr>\n",
       "    <tr>\n",
       "      <th>6488</th>\n",
       "      <td>999942</td>\n",
       "      <td>asus</td>\n",
       "      <td>16</td>\n",
       "      <td>2000</td>\n",
       "      <td>3.2</td>\n",
       "      <td>90900</td>\n",
       "    </tr>\n",
       "  </tbody>\n",
       "</table>\n",
       "<p>6489 rows × 6 columns</p>\n",
       "</div>"
      ],
      "text/plain": [
       "      productid    brand  RAM_GB  HDD_GB  GHz   price\n",
       "0           394  Samsung      16    1000  3.2   90900\n",
       "1           828   Lenovo       8    2000  2.5   51900\n",
       "2           995     Acer       4    1000  2.3   44900\n",
       "3          1009       HP       4     500  2.3   42900\n",
       "4          1093     Acer       8    2000  2.3   58900\n",
       "...         ...      ...     ...     ...  ...     ...\n",
       "6484     998890    Apple       4    2000  1.8  106900\n",
       "6485     998992     asus      16     500  3.0   67900\n",
       "6486     999168     Acer       8    2000  2.3   49900\n",
       "6487     999618    Apple       4    1000  1.8   97900\n",
       "6488     999942     asus      16    2000  3.2   90900\n",
       "\n",
       "[6489 rows x 6 columns]"
      ]
     },
     "execution_count": 88,
     "metadata": {},
     "output_type": "execute_result"
    }
   ],
   "source": [
    "conn = pyodbc.connect(\n",
    "       'DRIVER={ODBC Driver 17 for SQL Server}' + \n",
    "       ';SERVER=' + 'localhost,1401' + ';UID=' + 'sa' + \n",
    "       ';PWD=' + '@adnans123' +\n",
    "       ';database=' + 'TaskDB')\n",
    "\n",
    "df = pd.read_sql('Select * from Products', conn)\n",
    "\n",
    "conn.commit()\n",
    "conn.close()\n",
    "\n",
    "df"
   ]
  },
  {
   "cell_type": "code",
   "execution_count": 89,
   "id": "c29d5f67",
   "metadata": {},
   "outputs": [
    {
     "name": "stdout",
     "output_type": "stream",
     "text": [
      "<class 'pandas.core.frame.DataFrame'>\n",
      "RangeIndex: 6489 entries, 0 to 6488\n",
      "Data columns (total 6 columns):\n",
      " #   Column     Non-Null Count  Dtype  \n",
      "---  ------     --------------  -----  \n",
      " 0   productid  6489 non-null   int64  \n",
      " 1   brand      6489 non-null   object \n",
      " 2   RAM_GB     6489 non-null   int64  \n",
      " 3   HDD_GB     6489 non-null   int64  \n",
      " 4   GHz        6489 non-null   float64\n",
      " 5   price      6489 non-null   int64  \n",
      "dtypes: float64(1), int64(4), object(1)\n",
      "memory usage: 304.3+ KB\n"
     ]
    }
   ],
   "source": [
    "df.info()"
   ]
  },
  {
   "cell_type": "markdown",
   "id": "50b6003e",
   "metadata": {},
   "source": [
    "#### Calculate Minimum and Maximum Value for column HDD_GB"
   ]
  },
  {
   "cell_type": "code",
   "execution_count": 90,
   "id": "33f204a0",
   "metadata": {},
   "outputs": [
    {
     "data": {
      "text/plain": [
       "2000"
      ]
     },
     "execution_count": 90,
     "metadata": {},
     "output_type": "execute_result"
    }
   ],
   "source": [
    "df['HDD_GB'].max()"
   ]
  },
  {
   "cell_type": "code",
   "execution_count": 91,
   "id": "2df7937e",
   "metadata": {},
   "outputs": [
    {
     "data": {
      "text/plain": [
       "500"
      ]
     },
     "execution_count": 91,
     "metadata": {},
     "output_type": "execute_result"
    }
   ],
   "source": [
    "df['HDD_GB'].min()"
   ]
  },
  {
   "cell_type": "markdown",
   "id": "4cf3f7f3",
   "metadata": {},
   "source": [
    "#### Median of column “GHz”, grouped by column “RAM_GB” and save in csv"
   ]
  },
  {
   "cell_type": "code",
   "execution_count": 92,
   "id": "c7fd767a",
   "metadata": {},
   "outputs": [],
   "source": [
    "m = df.groupby('RAM_GB')['GHz'].apply(np.median)\n",
    "m.name = 'MEDIAN'\n",
    "df.join(m, on=['RAM_GB']).to_csv('median.csv', sep='\\t')\n"
   ]
  },
  {
   "cell_type": "markdown",
   "id": "d2826c59",
   "metadata": {},
   "source": [
    "#### Ranks based on column “Price”, grouped by column “brand” and save in csv "
   ]
  },
  {
   "cell_type": "code",
   "execution_count": 95,
   "id": "c94a8a65",
   "metadata": {},
   "outputs": [],
   "source": [
    "df['rank'] = df.sort_values(by=['brand', 'price']).groupby('brand')['price'].apply(lambda x: x.rank(method=\"dense\"))"
   ]
  },
  {
   "cell_type": "code",
   "execution_count": 94,
   "id": "b707587d",
   "metadata": {},
   "outputs": [],
   "source": [
    "df.to_csv('rank.csv', sep='\\t')"
   ]
  },
  {
   "cell_type": "code",
   "execution_count": null,
   "id": "5a23c57a",
   "metadata": {},
   "outputs": [],
   "source": []
  }
 ],
 "metadata": {
  "kernelspec": {
   "display_name": "Python 3 (ipykernel)",
   "language": "python",
   "name": "python3"
  },
  "language_info": {
   "codemirror_mode": {
    "name": "ipython",
    "version": 3
   },
   "file_extension": ".py",
   "mimetype": "text/x-python",
   "name": "python",
   "nbconvert_exporter": "python",
   "pygments_lexer": "ipython3",
   "version": "3.9.12"
  }
 },
 "nbformat": 4,
 "nbformat_minor": 5
}
